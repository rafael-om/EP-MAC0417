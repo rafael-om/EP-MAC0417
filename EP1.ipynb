{
 "cells": [
  {
   "cell_type": "markdown",
   "id": "50296fb9",
   "metadata": {},
   "source": [
    "Nome: Rafael de Oliveira Magalhães\n",
    "\n",
    "N° USP: 12566122\n",
    "\n",
    "# EP1"
   ]
  },
  {
   "cell_type": "markdown",
   "id": "ad529117",
   "metadata": {},
   "source": [
    "## Imports"
   ]
  },
  {
   "cell_type": "code",
   "execution_count": null,
   "id": "2fca9c92",
   "metadata": {},
   "outputs": [],
   "source": [
    "import matplotlib.pyplot as plt\n",
    "from matplotlib.pyplot import imread\n",
    "import numpy as np\n",
    "import pandas as pd\n",
    "import os"
   ]
  },
  {
   "cell_type": "markdown",
   "id": "329d0ce2",
   "metadata": {},
   "source": [
    "## Methods"
   ]
  },
  {
   "cell_type": "code",
   "execution_count": null,
   "id": "5ea5ed66",
   "metadata": {},
   "outputs": [],
   "source": [
    "def plot_image(fig: np.array, title: str) -> None:\n",
    "    \"\"\"\n",
    "        Method that displays an image\n",
    "    \"\"\"\n",
    "    plt.figure(figsize=(10,10))\n",
    "    plt.imshow(fig)\n",
    "    plt.title(title)\n",
    "    plt.axis('off')\n",
    "    plt.show()"
   ]
  },
  {
   "cell_type": "code",
   "execution_count": null,
   "id": "57cd2384",
   "metadata": {},
   "outputs": [],
   "source": [
    "def display_images_class(archive_metadata: str, image_directory: str, class_number: int) -> None:\n",
    "    \"\"\"\n",
    "        class_number: Class number. The numbers corresponding to each class can be seen through the 'classes' method\n",
    "    \n",
    "        ------------------------------------\n",
    "    \n",
    "        Displays all images of a given class\n",
    "    \"\"\"\n",
    "    if class_number < 0 or class_number > 9 or not isinstance(class_number, int):\n",
    "        print(\"Número da classe inválido, passe um número entre 0 e 9.\")\n",
    "    metadata = pd.read_csv(archive_metadata)\n",
    "    prefix = metadata.iloc[class_number]['Prefixo dos Arquivos']\n",
    "    class_name = metadata.iloc[class_number]['Nome da Classe']\n",
    "    cont = 1\n",
    "    for name_archive in os.listdir(image_directory):\n",
    "        if prefix in name_archive:\n",
    "            path_image = os.path.join(image_directory, name_archive)\n",
    "            image = imread(path_image)\n",
    "            plot_image(image, class_name + f\" - {cont}\")\n",
    "            cont += 1"
   ]
  },
  {
   "cell_type": "code",
   "execution_count": null,
   "id": "c90f9f81",
   "metadata": {},
   "outputs": [],
   "source": [
    "def classes(archive_metadata: str) -> None:\n",
    "    \"\"\"\n",
    "        Displays a table with the classes and their respective image prefixes\n",
    "    \"\"\"\n",
    "    metadata = pd.read_csv(archive_metadata)\n",
    "    new_df = metadata[['Nome da Classe', 'Prefixo dos Arquivos']]\n",
    "    display(new_df)"
   ]
  },
  {
   "cell_type": "code",
   "execution_count": null,
   "id": "79ff06d1",
   "metadata": {},
   "outputs": [],
   "source": [
    "def list_shape_images(directory: str) -> None:\n",
    "    \"\"\"\n",
    "        Returns a list of the dimensions of the images in the directory\n",
    "    \"\"\"\n",
    "    list_shapes = []\n",
    "    for name_archive in os.listdir(directory):\n",
    "        path_image = os.path.join(directory, name_archive)\n",
    "        image = imread(path_image)\n",
    "        shape = image.shape\n",
    "        if shape not in list_shapes:\n",
    "            list_shapes.append(shape)\n",
    "    return list_shapes"
   ]
  },
  {
   "cell_type": "code",
   "execution_count": null,
   "id": "9c956205",
   "metadata": {},
   "outputs": [],
   "source": [
    "def size_directory(directory: str) -> int:\n",
    "    \"\"\"\n",
    "        Returns the total size of the directory in MB\n",
    "    \"\"\"\n",
    "    size = 0\n",
    "    for dirpath, _, filenames in os.walk(directory):\n",
    "        for filename in filenames:\n",
    "            filepath = os.path.join(dirpath, filename)\n",
    "            size += os.path.getsize(filepath)\n",
    "    size_mb = size // (1024 * 1024)  \n",
    "    return size_mb"
   ]
  },
  {
   "cell_type": "code",
   "execution_count": null,
   "id": "a1720ff7",
   "metadata": {},
   "outputs": [],
   "source": [
    "def display_summary_table(archive_metadata: str, directory_images: str) -> None:\n",
    "    \"\"\"\n",
    "        Displays a summary table of the images in the directory and metadata file\n",
    "    \"\"\"\n",
    "    metadata = pd.read_csv(archive_metadata)\n",
    "    classes = metadata['Nome da Classe'].values\n",
    "    images = metadata['Total de Amostras'].values\n",
    "    total_images = sum(images)\n",
    "    total_class = len(classes)\n",
    "    str_classes = classes[0] + \"; \"\n",
    "    for i in range(1, len(classes)):\n",
    "        str_classes += classes[i] + \"; \"\n",
    "    size_images = size_directory(directory_images)\n",
    "    list_shapes = list_shape_images(directory_images)\n",
    "    shapes = \"\"\n",
    "    for tuplee in list_shapes:\n",
    "        lin, col, dim = tuplee\n",
    "        shapes += f\"{lin} linhas x {col} colunas; \"\n",
    "    print(\"======================================================================\")\n",
    "    print(\"Tabela Global Sumária:\")\n",
    "    print(f\"* Nome das classes: {str_classes}\")\n",
    "    print(f\"* Número de classes: {total_class}\")\n",
    "    print(f\"* Número de imagens: {total_images}\")\n",
    "    print(f\"* Tamanho da base: {size_images} MB\")\n",
    "    print(f\"* Resolução das imagens: {shapes}\")\n",
    "    print(\"======================================================================\")"
   ]
  },
  {
   "cell_type": "code",
   "execution_count": null,
   "id": "2ba4d648",
   "metadata": {},
   "outputs": [],
   "source": [
    "def display_detailed_table(archive_metadata: str) -> None:\n",
    "    \"\"\"\n",
    "        Displays a detailed table based on the metadata file\n",
    "    \"\"\"\n",
    "    metadata = pd.read_csv(archive_metadata)\n",
    "    pd.set_option('display.max_columns', None) \n",
    "    pd.set_option('display.max_rows', None)  \n",
    "    pd.set_option('display.width', None) \n",
    "    pd.set_option('display.max_colwidth', None)  \n",
    "    display(metadata)"
   ]
  },
  {
   "cell_type": "markdown",
   "id": "5a3689e5",
   "metadata": {},
   "source": [
    "## Examples of use"
   ]
  },
  {
   "cell_type": "code",
   "execution_count": null,
   "id": "ece6d50e",
   "metadata": {
    "scrolled": true
   },
   "outputs": [],
   "source": [
    "classes(\"metadados.csv\")"
   ]
  },
  {
   "cell_type": "code",
   "execution_count": null,
   "id": "91f2cfe0",
   "metadata": {},
   "outputs": [],
   "source": [
    "display_summary_table(\"metadados.csv\", \"Imagens/\")"
   ]
  },
  {
   "cell_type": "code",
   "execution_count": null,
   "id": "5cea8e4c",
   "metadata": {
    "scrolled": false
   },
   "outputs": [],
   "source": [
    "display_detailed_table(\"metadados.csv\")"
   ]
  },
  {
   "cell_type": "code",
   "execution_count": null,
   "id": "28bb056d",
   "metadata": {
    "scrolled": true
   },
   "outputs": [],
   "source": [
    "display_images_class(\"metadados.csv\", \"Imagens/\", 0)"
   ]
  }
 ],
 "metadata": {
  "kernelspec": {
   "display_name": "Python 3 (ipykernel)",
   "language": "python",
   "name": "python3"
  },
  "language_info": {
   "codemirror_mode": {
    "name": "ipython",
    "version": 3
   },
   "file_extension": ".py",
   "mimetype": "text/x-python",
   "name": "python",
   "nbconvert_exporter": "python",
   "pygments_lexer": "ipython3",
   "version": "3.11.8"
  }
 },
 "nbformat": 4,
 "nbformat_minor": 5
}
